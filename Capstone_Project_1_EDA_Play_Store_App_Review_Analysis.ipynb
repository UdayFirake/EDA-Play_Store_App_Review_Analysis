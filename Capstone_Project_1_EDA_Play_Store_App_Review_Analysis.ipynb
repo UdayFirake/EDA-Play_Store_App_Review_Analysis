{
  "nbformat": 4,
  "nbformat_minor": 0,
  "metadata": {
    "kernelspec": {
      "display_name": "Python 3",
      "language": "python",
      "name": "python3"
    },
    "language_info": {
      "codemirror_mode": {
        "name": "ipython",
        "version": 3
      },
      "file_extension": ".py",
      "mimetype": "text/x-python",
      "name": "python",
      "nbconvert_exporter": "python",
      "pygments_lexer": "ipython3",
      "version": "3.6.6"
    },
    "colab": {
      "name": "Capstone Project 1 - EDA- Play Store App Review Analysis.ipynb",
      "provenance": [],
      "collapsed_sections": [],
      "include_colab_link": true
    }
  },
  "cells": [
    {
      "cell_type": "markdown",
      "metadata": {
        "id": "view-in-github",
        "colab_type": "text"
      },
      "source": [
        "<a href=\"https://colab.research.google.com/github/UdayFirake/EDA_Play_Store_App_Review_Analysis/blob/main/Capstone_Project_1_EDA_Play_Store_App_Review_Analysis.ipynb\" target=\"_parent\"><img src=\"https://colab.research.google.com/assets/colab-badge.svg\" alt=\"Open In Colab\"/></a>"
      ]
    },
    {
      "cell_type": "markdown",
      "metadata": {
        "id": "Y06xIdG26kRF"
      },
      "source": [
        "## <b> The Play Store apps data has enormous potential to drive app-making businesses to success. Actionable insights can be drawn for developers to work on and capture the Android market. </b>\n",
        "\n",
        "## <b> Each app (row) has values for category, rating, size, and more. Another dataset contains customer reviews of the android apps.</b>\n",
        "\n",
        "## <b> Explore and analyze the data to discover key factors responsible for app engagement and success. </b>"
      ]
    },
    {
      "cell_type": "markdown",
      "source": [
        "## **INTRODUCTION :**"
      ],
      "metadata": {
        "id": "5JFOtfGB484H"
      }
    },
    {
      "cell_type": "markdown",
      "source": [
        "\n",
        "\n",
        "Play store is a marketplace (App) for downloading Android applications for smartphones. Smartphones sells soaring across world. Its very lucrative market for App developers as users are looking for comfort and their needs increaseing like entertainment, games etc. It's important to find out what type of apps people downlaoding before developing an App for users and list that APP on Play Store for downlaoding.\n",
        "\n",
        "**What is a EDA?** Exploratory data analysis (EDA) is used by data scientists to analyze and investigate data sets for patterns, and anomalies (outliers), and form hypotheses based on our understanding of the dataset and summarize their main characteristics, often employing data visualization methods. It is an important step in any Data Analysis or Data Science project. It helps determine how best to manipulate data sources to get the answers you need.\n",
        "\n",
        "EDA involves generating summary statistics for numerical data in the dataset and creating various graphical representations to understand the data better and make it more attractive and appealing.\n",
        "\n",
        "\n",
        "**What is need of an EDA?** \"The main purpose of EDA is to help look at data before making any assumptions. It can help identify obvious errors, as well as better understand patterns within the data, detect outliers or anomalous events, find interesting relations among the variables\"."
      ],
      "metadata": {
        "id": "2I3wrUVL6gNo"
      }
    },
    {
      "cell_type": "markdown",
      "source": [
        "Mobile Applications are an integral part of our daily lives. As they are easy to create and are lucrative, it becomes essential to do comprehensive analysis of play store app data and understand the demand of users.\n",
        "\n",
        "Thus, in this colab notebook we have tried our level best to do all possible analysis and bring out some insights from the data to devise strategies for growth and retention.\n",
        "\n",
        "The flow of analyzing the dataset will be as follows:\n",
        "\n",
        "1. **Problem Comprehension:** It involves loading the dataset and do a logical analysis of variables.\n",
        "2. **Data Exploration:** Exploring the data using head, tail, info and describe.\n",
        "3. **Data Cleaning:** Looking for and handling NaN/Null/Missing/Duplicate values. Finding the key statistical values to fill up the missing values and making important insights.\n",
        "4. **Data Visualization & Exploratory analysis:** Visualizing the analysis with various graphs such as Histograms, Line chart, Pi chart, Boxplot, Heatmap etc. Getting some conclusion from the given dataset, finding correlation and trends that fulfills the purpose of analysis.\n",
        "5. **Conclusion**"
      ],
      "metadata": {
        "id": "QTJD5vag8Ogh"
      }
    }
  ]
}