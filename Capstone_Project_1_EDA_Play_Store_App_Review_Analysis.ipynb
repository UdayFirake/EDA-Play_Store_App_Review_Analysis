{
  "nbformat": 4,
  "nbformat_minor": 0,
  "metadata": {
    "kernelspec": {
      "display_name": "Python 3",
      "language": "python",
      "name": "python3"
    },
    "language_info": {
      "codemirror_mode": {
        "name": "ipython",
        "version": 3
      },
      "file_extension": ".py",
      "mimetype": "text/x-python",
      "name": "python",
      "nbconvert_exporter": "python",
      "pygments_lexer": "ipython3",
      "version": "3.6.6"
    },
    "colab": {
      "name": "Capstone Project 1 - EDA- Play Store App Review Analysis.ipynb",
      "provenance": [],
      "collapsed_sections": [],
      "include_colab_link": true
    }
  },
  "cells": [
    {
      "cell_type": "markdown",
      "metadata": {
        "id": "view-in-github",
        "colab_type": "text"
      },
      "source": [
        "<a href=\"https://colab.research.google.com/github/UdayFirake/EDA_Play_Store_App_Review_Analysis/blob/main/Capstone_Project_1_EDA_Play_Store_App_Review_Analysis.ipynb\" target=\"_parent\"><img src=\"https://colab.research.google.com/assets/colab-badge.svg\" alt=\"Open In Colab\"/></a>"
      ]
    },
    {
      "cell_type": "markdown",
      "metadata": {
        "id": "Y06xIdG26kRF"
      },
      "source": [
        "## <b> The Play Store apps data has enormous potential to drive app-making businesses to success. Actionable insights can be drawn for developers to work on and capture the Android market. </b>\n",
        "\n",
        "## <b> Each app (row) has values for category, rating, size, and more. Another dataset contains customer reviews of the android apps.</b>\n",
        "\n",
        "## <b> Explore and analyze the data to discover key factors responsible for app engagement and success. </b>"
      ]
    },
    {
      "cell_type": "markdown",
      "source": [
        "## **INTRODUCTION :**"
      ],
      "metadata": {
        "id": "5JFOtfGB484H"
      }
    },
    {
      "cell_type": "markdown",
      "source": [
        "\n",
        "\n",
        "Play store is a marketplace (App) for downloading Android applications for smartphones. Smartphones sells soaring across world. Its very lucrative market for App developers as users are looking for comfort and their needs increaseing like entertainment, games etc. It's important to find out what type of apps people downlaoding before developing an App for users and list that APP on Play Store for downlaoding.\n",
        "\n",
        "**What is a EDA?** Exploratory data analysis (EDA) is used by data scientists to analyze and investigate data sets for patterns, and anomalies (outliers), and form hypotheses based on our understanding of the dataset and summarize their main characteristics, often employing data visualization methods. It is an important step in any Data Analysis or Data Science project. It helps determine how best to manipulate data sources to get the answers you need.\n",
        "\n",
        "EDA involves generating summary statistics for numerical data in the dataset and creating various graphical representations to understand the data better and make it more attractive and appealing.\n",
        "\n",
        "\n",
        "**What is need of an EDA?** \"The main purpose of EDA is to help look at data before making any assumptions. It can help identify obvious errors, as well as better understand patterns within the data, detect outliers or anomalous events, find interesting relations among the variables\"."
      ],
      "metadata": {
        "id": "2I3wrUVL6gNo"
      }
    },
    {
      "cell_type": "markdown",
      "source": [
        "Mobile Applications are an integral part of our daily lives. As they are easy to create and are lucrative, it becomes essential to do comprehensive analysis of play store app data and understand the demand of users.\n",
        "\n",
        "Thus, in this colab notebook we have tried our level best to do all possible analysis and bring out some insights from the data to devise strategies for growth and retention.\n",
        "\n",
        "The flow of analyzing the dataset will be as follows:\n",
        "\n",
        "1. **Problem Comprehension:** It involves loading the dataset and do a logical analysis of variables.\n",
        "2. **Data Exploration:** Exploring the data using head, tail, info and describe.\n",
        "3. **Data Cleaning:** Looking for and handling NaN/Null/Missing/Duplicate values. Finding the key statistical values to fill up the missing values and making important insights.\n",
        "4. **Data Visualization & Exploratory analysis:** Visualizing the analysis with various graphs such as Histograms, Line chart, Pi chart, Boxplot, Heatmap etc. Getting some conclusion from the given dataset, finding correlation and trends that fulfills the purpose of analysis.\n",
        "5. **Conclusion**"
      ],
      "metadata": {
        "id": "QTJD5vag8Ogh"
      }
    },
    {
      "cell_type": "markdown",
      "source": [
        "# It's time to **HAVE FUN** with the **DATASET** now !!!!"
      ],
      "metadata": {
        "id": "i2ZeVlrs97Cp"
      }
    },
    {
      "cell_type": "markdown",
      "source": [
        "#**1. Problem Comprehension :**"
      ],
      "metadata": {
        "id": "TrUlcXGQ1fBq"
      }
    },
    {
      "cell_type": "code",
      "source": [
        "# Let's begin with importing the required libraries.\n",
        "import numpy as np\n",
        "import pandas as pd\n",
        "import seaborn as sns\n",
        "import matplotlib.pyplot as plt\n",
        "%matplotlib inline"
      ],
      "metadata": {
        "id": "cpsf8Ne5_tUg"
      },
      "execution_count": null,
      "outputs": []
    },
    {
      "cell_type": "code",
      "source": [
        "# Mounting google drive.\n",
        "from google.colab import drive\n",
        "drive.mount('/content/drive')"
      ],
      "metadata": {
        "colab": {
          "base_uri": "https://localhost:8080/"
        },
        "id": "Jg_LSvm9Afe2",
        "outputId": "eb2fc8c5-91fc-4b8d-ea5a-cb032c8f5fe8"
      },
      "execution_count": null,
      "outputs": [
        {
          "output_type": "stream",
          "name": "stdout",
          "text": [
            "Mounted at /content/drive\n"
          ]
        }
      ]
    },
    {
      "cell_type": "code",
      "source": [
        "# Defining the working path.\n",
        "play_store_data_path = '/content/drive/MyDrive/Capstone Projects/Exploratory Data Analysis (EDA) :- Play Store App Review Analysis/Play Store Data.csv'\n",
        "user_reviews_path = '/content/drive/MyDrive/Capstone Projects/Exploratory Data Analysis (EDA) :- Play Store App Review Analysis/User Reviews.csv'"
      ],
      "metadata": {
        "id": "AFE5ucqsDY9o"
      },
      "execution_count": null,
      "outputs": []
    },
    {
      "cell_type": "code",
      "source": [
        "# Loading dataframes of both CSV files.\n",
        "play_store_data_df = pd.read_csv(play_store_data_path)\n",
        "user_reviews_df = pd.read_csv(user_reviews_path)"
      ],
      "metadata": {
        "id": "NGQoDj6gDrhg"
      },
      "execution_count": null,
      "outputs": []
    },
    {
      "cell_type": "markdown",
      "source": [
        "##**Dataset Description :**\n",
        "##A. Play store Dataset\n",
        "\n",
        "This file contains data of the Play store applications. It contains 10,841 rows of data with different application names and following columns:\n",
        "\n",
        "**App**: It defines names of different applications to be reviewd.\n",
        "\n",
        "**Category:** Category of the application it belongs to such as family, game, beauty, business, entertainment, education...etc.\n",
        "\n",
        "**Rating:** Overall user rating of the application. The users have rated the app out of 5, with 1 being the lowest rating and 5 being the highest.\n",
        "\n",
        "**Reviews:** The number of user reviews each app has received.\n",
        "\n",
        "**Size:** The memory size needed to install the application.\n",
        "\n",
        "**Installs:** The number of times each application has been installed by users.\n",
        "\n",
        "**Type:** Tells about the Free or paid version of the app.\n",
        "\n",
        "**Price:** Notifies the price of the app.\n",
        "\n",
        "**Content Rating:** This column specifies the intended audience of the app such as teens, mature 21+, or everyone.\n",
        "\n",
        "**Genres:** The sub-category for each app. Example: for the Education category, this could be Education: Pretend Play, for example.\n",
        "\n",
        "**Last Updated:** Release date of the most recent update for the app.\n",
        "\n",
        "**Current Ver:** The app's current version.\n",
        "\n",
        "**Android Ver:** The oldest version of Android OS supported by the app.\n",
        "\n",
        "##B. User Reviews Dataset\n",
        "This dataset contains the result of the sentiment analysis. It has 64,295 rows of data with the following additional attributes: \n",
        "\n",
        "**App:** Name of the applications.\n",
        "\n",
        "**Translated_Review:** Either the original review in English, or a translated version if the orignal review is in another language. \n",
        "\n",
        "Moreover, the text in each review was pre-processed and attributed with three new features.\n",
        "\n",
        "**Sentiment:** The result of the sentiment analysis conducted on a review dataset. The value is either Positive, Neutral, or Negative.\n",
        "\n",
        "**Sentiment_Polarity:** Sentiment polarity is a value indicating the positivity or negativity of the sentiment. It ranges from -1 (most negative) to 1 (most positive).\n",
        "\n",
        "**Sentiment_Subjectivity:** Sentiment Subjectivity is a value ranging from 0 to 1, which indicates the subjectivity of the review. Here, lower values indicate the review which is based on factual information, and higher values indicate the review that is based on personal opinions, public opinions or judgements."
      ],
      "metadata": {
        "id": "6pQ4pouSH9XP"
      }
    }
  ]
}